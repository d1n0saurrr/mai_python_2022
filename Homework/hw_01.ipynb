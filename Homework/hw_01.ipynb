{
 "cells": [
  {
   "cell_type": "code",
   "execution_count": 6,
   "id": "f78c27d1",
   "metadata": {},
   "outputs": [
    {
     "name": "stdout",
     "output_type": "stream",
     "text": [
      "DJI Mavic 2 Pro\n",
      "DJI Mavic 2 Zoom\n",
      "DJI Mavic 2 Enterprise Advanced\n",
      "AUTEL Evo II Pro\n",
      "DJI Mini 2\n",
      "Autel Evo Nano\n",
      "Autel Evo Lite Plus\n",
      "Parrot Anafi\n",
      "Dji Inspire 2\n",
      "DJI Mavic 3\n",
      "DJI Mavic Air2s\n",
      "Ryze Tello\n",
      "Eachine Trashcan\n"
     ]
    }
   ],
   "source": [
    "drone_list = [\"DJI Mavic 2 Pro\", \"DJI Mavic 2 Zoom\", \"DJI Mavic 2 Enterprise Advanced\", \"AUTEL Evo II Pro\", \"DJI Mini 2\", \"Autel Evo Nano\", \"Autel Evo Lite Plus\", \"Parrot Anafi\", \"Dji Inspire 2\", \"DJI Mavic 3\", \"DJI Mavic Air2s\", \"Ryze Tello\", \"Eachine Trashcan\"]\n",
    "\n",
    "drone_weight_list = [903, 900, 920, 980, 249, 249, 600, 540, 1500, 1000, 570, 130, 110]\n",
    "\n",
    "#в drone по очереди попадает каждый дрон из списка drone_list\n",
    "for drone in drone_list:\n",
    "\tprint(drone)\n",
    "\n",
    "#TODO1\n",
    "#выведите все дроны производителя, название которого введет пользователь через input, и подсчитайте их количество. \n",
    "#учтите, что:\n",
    "#1) DJI и Dji - это один и тот же производитель! такие случаи тоже должны обрабатываться\n",
    "#2) при выводе исправьте название производителя, если допущена ошибка. правильный вариант названия: DJI, Autel\n",
    "\n",
    "#TODO2\n",
    "#подсчитайте количество моделей дронов каждого производителя из списка drone_list. производители: DJI, Autel, Parrot, Ryze, Eachine\n",
    "\n",
    "#TODO3\n",
    "#выведите все дроны из списка, которые нужно регистрировать (масса больше 150 г), и подсчитайте их количество. \n",
    "#сделайте то же самое для всех дронов, которые не нужно регистрировать\n",
    "#для этого вам нужно параллельно обрабатывать два списка: drone_list и drone_weight_list:\n",
    "#как работает zip, мы разберем на лекции про списки. пока что просто пользуйтесь\n",
    "#for drone, weight in zip(drone_list,  drone_weight_list):\n",
    "#\tprint(drone, weight)\n",
    "\n",
    "#TODO4\n",
    "#для каждого дрона из списка выведите, нудно ли согласовывать полет при следующих условиях:\n",
    "#высота 100 м, полет над населенным пунктом, вне закрытых зон, в прямой видимости\n",
    "#помните, что для дронов тяжелее 150 г согласовывать полет над населенным пунктом - обязательно!\n",
    "\n",
    "#TODO5*\n",
    "#модифицируйте решение задания TODO1:\n",
    "#теперь для введенного пользователем производителя вы должны вывести строку, содержащую перечисление моделей и БЕЗ названия производителя.\n",
    "#например, пользователь ввел \"Autel\". ваша программа должна вывести вот такой результат: \"Evo II Pro, Evo Nano, Evo Lite Plus\". для этого вам понадобится несколько функций работы со строками. решить эту задачу можно несколькими разными способами\n",
    "#производители те же: DJI, Autel, Parrot, Ryze, Eachine"
   ]
  },
  {
   "cell_type": "markdown",
   "id": "83bbe0c4",
   "metadata": {},
   "source": [
    "## Выполнение"
   ]
  },
  {
   "cell_type": "code",
   "execution_count": 16,
   "id": "27d5c84b",
   "metadata": {},
   "outputs": [],
   "source": [
    "#TODO1\n",
    "#выведите все дроны производителя, название которого введет пользователь через input, и подсчитайте их количество. \n",
    "#учтите, что:<br>\n",
    "#1) DJI и Dji - это один и тот же производитель! такие случаи тоже должны обрабатываться<br>\n",
    "#2) при выводе исправьте название производителя, если допущена ошибка. правильный вариант названия: DJI, Autel"
   ]
  },
  {
   "cell_type": "code",
   "execution_count": 32,
   "id": "ba57effa",
   "metadata": {},
   "outputs": [
    {
     "name": "stdout",
     "output_type": "stream",
     "text": [
      "Введите название производителя: autel\n",
      "Autel Evo II Pro\n",
      "Autel Evo Nano\n",
      "Autel Evo Lite Plus\n",
      "Количество = 3\n"
     ]
    }
   ],
   "source": [
    "drones_by_producers = {}\n",
    "for drone in drone_list:\n",
    "    lower = drone.split()[0].lower()\n",
    "    dron_copy = drone\n",
    "    if lower == \"dji\":\n",
    "        drone = \"DJI\"\n",
    "    elif lower == \"autel\":\n",
    "        drone = \"Autel\"\n",
    "    elif lower == \"parrot\":\n",
    "        drone = \"Parrot\"\n",
    "    elif lower == \"ryze\":\n",
    "        drone = \"Ryze\"\n",
    "    elif lower == \"eachine\":\n",
    "        drone = \"Eachine\"\n",
    "        \n",
    "    if drones_by_producers.get(drone, 0) == 0: \n",
    "        drones_by_producers[drone] = [dron_copy[dron_copy.index(' ') + 1:]]\n",
    "    else:\n",
    "        drones_by_producers[drone].append(dron_copy[dron_copy.index(' ') + 1:])\n",
    "        \n",
    "prod = input(\"Введите название производителя: \")\n",
    "lower = prod.lower()\n",
    "if lower == \"dji\":\n",
    "    drone = \"DJI\"\n",
    "elif lower == \"autel\":\n",
    "    drone = \"Autel\"\n",
    "elif lower == \"parrot\":\n",
    "    drone = \"Parrot\"\n",
    "elif lower == \"ryze\":\n",
    "    drone = \"Ryze\"\n",
    "elif lower == \"eachine\":\n",
    "    drone = \"Eachine\"\n",
    "\n",
    "for dr in drones_by_producers[drone]:\n",
    "    print(drone + \" \" + dr)\n",
    "print(\"Количество = \" + str(len(drones_by_producers[drone])))"
   ]
  },
  {
   "cell_type": "code",
   "execution_count": 17,
   "id": "b5412ead",
   "metadata": {},
   "outputs": [],
   "source": [
    "#TODO2\n",
    "#подсчитайте количество моделей дронов каждого производителя из списка drone_list. производители: DJI, Autel, Parrot, Ryze, Eachine"
   ]
  },
  {
   "cell_type": "code",
   "execution_count": 18,
   "id": "393fc51f",
   "metadata": {},
   "outputs": [
    {
     "name": "stdout",
     "output_type": "stream",
     "text": [
      "DJI: ['Mavic 2 Pro', 'Mavic 2 Zoom', 'Mavic 2 Enterprise Advanced', 'Mini 2', 'Inspire 2', 'Mavic 3', 'Mavic Air2s'] - 7\n",
      "Autel: ['Evo II Pro', 'Evo Nano', 'Evo Lite Plus'] - 3\n",
      "Parrot: ['Anafi'] - 1\n",
      "Ryze: ['Tello'] - 1\n",
      "Eachine: ['Trashcan'] - 1\n"
     ]
    }
   ],
   "source": [
    "for name, drones in drones_by_producers.items():\n",
    "    print(f'{name}: {drones} - {len(drones)}')"
   ]
  },
  {
   "cell_type": "code",
   "execution_count": 19,
   "id": "852cce22",
   "metadata": {},
   "outputs": [],
   "source": [
    "#TODO3\n",
    "#выведите все дроны из списка, которые нужно регистрировать (масса больше 150 г), и подсчитайте их количество. \n",
    "#сделайте то же самое для всех дронов, которые не нужно регистрировать\n",
    "#для этого вам нужно параллельно обрабатывать два списка: drone_list и drone_weight_list:\n",
    "#как работает zip, мы разберем на лекции про списки. пока что просто пользуйтесь"
   ]
  },
  {
   "cell_type": "code",
   "execution_count": 20,
   "id": "8283d5dc",
   "metadata": {},
   "outputs": [
    {
     "name": "stdout",
     "output_type": "stream",
     "text": [
      "Дроны, которые нужно регистрировать:\n",
      "DJI Mavic 2 Pro 903\n",
      "DJI Mavic 2 Zoom 900\n",
      "DJI Mavic 2 Enterprise Advanced 920\n",
      "AUTEL Evo II Pro 980\n",
      "DJI Mini 2 249\n",
      "Autel Evo Nano 249\n",
      "Autel Evo Lite Plus 600\n",
      "Parrot Anafi 540\n",
      "Dji Inspire 2 1500\n",
      "DJI Mavic 3 1000\n",
      "DJI Mavic Air2s 570\n",
      "\n",
      "Дроны, которые не нужно регистрировать:\n",
      "Ryze Tello 130\n",
      "Eachine Trashcan 110\n"
     ]
    }
   ],
   "source": [
    "print('Дроны, которые нужно регистрировать:')\n",
    "for drone, weight in zip(drone_list,  drone_weight_list):\n",
    "    if weight > 150:\n",
    "        print(drone, weight)\n",
    "        \n",
    "print('\\nДроны, которые не нужно регистрировать:')\n",
    "for drone, weight in zip(drone_list,  drone_weight_list):\n",
    "    if weight <= 150:\n",
    "        print(drone, weight)"
   ]
  },
  {
   "cell_type": "code",
   "execution_count": 21,
   "id": "740e6ed8",
   "metadata": {},
   "outputs": [],
   "source": [
    "#TODO4\n",
    "#для каждого дрона из списка выведите, нудно ли согласовывать полет при следующих условиях:\n",
    "#высота 100 м, полет над населенным пунктом, вне закрытых зон, в прямой видимости\n",
    "#помните, что для дронов тяжелее 150 г согласовывать полет над населенным пунктом - обязательно!"
   ]
  },
  {
   "cell_type": "code",
   "execution_count": 35,
   "id": "a9715573",
   "metadata": {},
   "outputs": [
    {
     "name": "stdout",
     "output_type": "stream",
     "text": [
      "Дроны, которые нужно согласовывать:\n",
      "DJI Mavic 2 Pro 903\n",
      "DJI Mavic 2 Zoom 900\n",
      "DJI Mavic 2 Enterprise Advanced 920\n",
      "AUTEL Evo II Pro 980\n",
      "DJI Mini 2 249\n",
      "Autel Evo Nano 249\n",
      "Autel Evo Lite Plus 600\n",
      "Parrot Anafi 540\n",
      "Dji Inspire 2 1500\n",
      "DJI Mavic 3 1000\n",
      "DJI Mavic Air2s 570\n"
     ]
    }
   ],
   "source": [
    "height = 100\n",
    "vlos = True\n",
    "closed_area = False\n",
    "locality = True\n",
    "print('Дроны, которые нужно согласовывать:')\n",
    "for drone, weight in zip(drone_list,  drone_weight_list):\n",
    "    if height > 150 or (locality and weight > 150) or closed_area or not vlos:\n",
    "        print(drone, weight)"
   ]
  },
  {
   "cell_type": "code",
   "execution_count": 24,
   "id": "bc92138a",
   "metadata": {},
   "outputs": [],
   "source": [
    "#TODO5*\n",
    "#модифицируйте решение задания TODO1:\n",
    "#теперь для введенного пользователем производителя вы должны вывести строку, содержащую перечисление моделей и БЕЗ названия производителя.\n",
    "#например, пользователь ввел \"Autel\". ваша программа должна вывести вот такой результат: \"Evo II Pro, Evo Nano, Evo Lite Plus\". для этого вам понадобится несколько функций работы со строками. решить эту задачу можно несколькими разными способами\n",
    "#производители те же: DJI, Autel, Parrot, Ryze, Eachine"
   ]
  },
  {
   "cell_type": "code",
   "execution_count": 29,
   "id": "6618bef2",
   "metadata": {},
   "outputs": [
    {
     "name": "stdout",
     "output_type": "stream",
     "text": [
      "Введите название производителя: dji\n"
     ]
    },
    {
     "data": {
      "text/plain": [
       "['Mavic 2 Pro',\n",
       " 'Mavic 2 Zoom',\n",
       " 'Mavic 2 Enterprise Advanced',\n",
       " 'Mini 2',\n",
       " 'Inspire 2',\n",
       " 'Mavic 3',\n",
       " 'Mavic Air2s']"
      ]
     },
     "execution_count": 29,
     "metadata": {},
     "output_type": "execute_result"
    }
   ],
   "source": [
    "prod = input(\"Введите название производителя: \")\n",
    "lower = prod.lower()\n",
    "if lower == \"dji\":\n",
    "    drone = \"DJI\"\n",
    "elif lower == \"autel\":\n",
    "    drone = \"Autel\"\n",
    "elif lower == \"parrot\":\n",
    "        drone = \"Parrot\"\n",
    "elif lower == \"ryze\":\n",
    "    drone = \"Ryze\"\n",
    "elif lower == \"eachine\":\n",
    "    drone = \"Eachine\"\n",
    "drones_by_producers[drone]"
   ]
  }
 ],
 "metadata": {
  "kernelspec": {
   "display_name": "Python 3 (ipykernel)",
   "language": "python",
   "name": "python3"
  },
  "language_info": {
   "codemirror_mode": {
    "name": "ipython",
    "version": 3
   },
   "file_extension": ".py",
   "mimetype": "text/x-python",
   "name": "python",
   "nbconvert_exporter": "python",
   "pygments_lexer": "ipython3",
   "version": "3.9.12"
  }
 },
 "nbformat": 4,
 "nbformat_minor": 5
}
